{
 "cells": [
  {
   "cell_type": "markdown",
   "id": "c6b829bb",
   "metadata": {
    "papermill": {
     "duration": 0.02457,
     "end_time": "2022-01-25T16:17:40.394669",
     "exception": false,
     "start_time": "2022-01-25T16:17:40.370099",
     "status": "completed"
    },
    "tags": []
   },
   "source": [
    "# ML project for bankruptcy"
   ]
  },
  {
   "cell_type": "markdown",
   "id": "37a9d1f8",
   "metadata": {
    "papermill": {
     "duration": 0.022275,
     "end_time": "2022-01-25T16:17:40.439738",
     "exception": false,
     "start_time": "2022-01-25T16:17:40.417463",
     "status": "completed"
    },
    "tags": []
   },
   "source": [
    "Dataset is downloaded by Kaggle: https://www.kaggle.com/fedesoriano/company-bankruptcy-prediction \n",
    "\n",
    "The data were collected from the Taiwan Economic Journal for the years 1999 to 2009. Company bankruptcy was defined based on the business regulations of the Taiwan Stock Exchange.\n",
    "\n",
    "\n",
    "Content\n",
    "\n",
    "1. The dataset contains the following information:\n",
    "Y - Bankrupt?: Class label\n",
    "X1 - ROA(C) before interest and depreciation before interest: Return On Total Assets(C)\n",
    "X2 - ROA(A) before interest and % after tax: Return On Total Assets(A)\n",
    "X3 - ROA(B) before interest and depreciation after tax: Return On Total Assets(B)\n",
    "X4 - Operating Gross Margin: Gross Profit/Net Sales\n",
    "X5 - Realized Sales Gross Margin: Realized Gross Profit/Net Sales\n",
    "X6 - Operating Profit Rate: Operating Income/Net Sales\n",
    "X7 - Pre-tax net Interest Rate: Pre-Tax Income/Net Sales\n",
    "X8 - After-tax net Interest Rate: Net Income/Net Sales\n",
    "X9 - Non-industry income and expenditure/revenue: Net Non-operating Income Ratio\n",
    "X10 - Continuous interest rate (after tax): Net Income-Exclude Disposal Gain or Loss/Net Sales\n",
    "X11 - Operating Expense Rate: Operating Expenses/Net Sales\n",
    "X12 - Research and development expense rate: (Research and Development Expenses)/Net Sales\n",
    "X13 - Cash flow rate: Cash Flow from Operating/Current Liabilities\n",
    "X14 - Interest-bearing debt interest rate: Interest-bearing Debt/Equity\n",
    "X15 - Tax rate (A): Effective Tax Rate\n",
    "X16 - Net Value Per Share (B): Book Value Per Share(B)\n",
    "X17 - Net Value Per Share (A): Book Value Per Share(A)\n",
    "X18 - Net Value Per Share (C): Book Value Per Share(C)\n",
    "X19 - Persistent EPS in the Last Four Seasons: EPS-Net Income\n",
    "X20 - Cash Flow Per Share\n",
    "X21 - Revenue Per Share (Yuan ¥): Sales Per Share\n",
    "X22 - Operating Profit Per Share (Yuan ¥): Operating Income Per Share\n",
    "X23 - Per Share Net profit before tax (Yuan ¥): Pretax Income Per Share\n",
    "X24 - Realized Sales Gross Profit Growth Rate\n",
    "X25 - Operating Profit Growth Rate: Operating Income Growth\n",
    "X26 - After-tax Net Profit Growth Rate: Net Income Growth\n",
    "X27 - Regular Net Profit Growth Rate: Continuing Operating Income after Tax Growth\n",
    "X28 - Continuous Net Profit Growth Rate: Net Income-Excluding Disposal Gain or Loss Growth\n",
    "X29 - Total Asset Growth Rate: Total Asset Growth\n",
    "X30 - Net Value Growth Rate: Total Equity Growth\n",
    "X31 - Total Asset Return Growth Rate Ratio: Return on Total Asset Growth\n",
    "X32 - Cash Reinvestment %: Cash Reinvestment Ratio\n",
    "X33 - Current Ratio\n",
    "X34 - Quick Ratio: Acid Test\n",
    "X35 - Interest Expense Ratio: Interest Expenses/Total Revenue\n",
    "X36 - Total debt/Total net worth: Total Liability/Equity Ratio\n",
    "X37 - Debt ratio %: Liability/Total Assets\n",
    "X38 - Net worth/Assets: Equity/Total Assets\n",
    "X39 - Long-term fund suitability ratio (A): (Long-term Liability+Equity)/Fixed Assets\n",
    "X40 - Borrowing dependency: Cost of Interest-bearing Debt\n",
    "X41 - Contingent liabilities/Net worth: Contingent Liability/Equity\n",
    "X42 - Operating profit/Paid-in capital: Operating Income/Capital\n",
    "X43 - Net profit before tax/Paid-in capital: Pretax Income/Capital\n",
    "X44 - Inventory and accounts receivable/Net value: (Inventory+Accounts Receivables)/Equity\n",
    "X45 - Total Asset Turnover\n",
    "X46 - Accounts Receivable Turnover\n",
    "X47 - Average Collection Days: Days Receivable Outstanding\n",
    "X48 - Inventory Turnover Rate (times)\n",
    "X49 - Fixed Assets Turnover Frequency\n",
    "X50 - Net Worth Turnover Rate (times): Equity Turnover\n",
    "X51 - Revenue per person: Sales Per Employee\n",
    "X52 - Operating profit per person: Operation Income Per Employee\n",
    "X53 - Allocation rate per person: Fixed Assets Per Employee\n",
    "X54 - Working Capital to Total Assets\n",
    "X55 - Quick Assets/Total Assets\n",
    "X56 - Current Assets/Total Assets\n",
    "X57 - Cash/Total Assets\n",
    "X58 - Quick Assets/Current Liability\n",
    "X59 - Cash/Current Liability\n",
    "X60 - Current Liability to Assets\n",
    "X61 - Operating Funds to Liability\n",
    "X62 - Inventory/Working Capital\n",
    "X63 - Inventory/Current Liability\n",
    "X64 - Current Liabilities/Liability\n",
    "X65 - Working Capital/Equity\n",
    "X66 - Current Liabilities/Equity\n",
    "X67 - Long-term Liability to Current Assets\n",
    "X68 - Retained Earnings to Total Assets\n",
    "X69 - Total income/Total expense\n",
    "X70 - Total expense/Assets\n",
    "X71 - Current Asset Turnover Rate: Current Assets to Sales\n",
    "X72 - Quick Asset Turnover Rate: Quick Assets to Sales\n",
    "X73 - Working capitcal Turnover Rate: Working Capital to Sales\n",
    "X74 - Cash Turnover Rate: Cash to Sales\n",
    "X75 - Cash Flow to Sales\n",
    "X76 - Fixed Assets to Assets\n",
    "X77 - Current Liability to Liability\n",
    "X78 - Current Liability to Equity\n",
    "X79 - Equity to Long-term Liability\n",
    "X80 - Cash Flow to Total Assets\n",
    "X81 - Cash Flow to Liability\n",
    "X82 - CFO to Assets\n",
    "X83 - Cash Flow to Equity\n",
    "X84 - Current Liability to Current Assets\n",
    "X85 - Liability-Assets Flag: 1 if Total Liability exceeds Total Assets, 0 otherwise\n",
    "X86 - Net Income to Total Assets\n",
    "X87 - Total assets to GNP price\n",
    "X88 - No-credit Interval\n",
    "X89 - Gross Profit to Sales\n",
    "X90 - Net Income to Stockholder's Equity\n",
    "X91 - Liability to Equity\n",
    "X92 - Degree of Financial Leverage (DFL)\n",
    "X93 - Interest Coverage Ratio (Interest expense to EBIT)\n",
    "X94 - Net Income Flag: 1 if Net Income is Negative for the last two years, 0 otherwise\n",
    "X95 - Equity to Liability"
   ]
  },
  {
   "cell_type": "code",
   "execution_count": 1,
   "id": "3a5c27d0",
   "metadata": {
    "execution": {
     "iopub.execute_input": "2022-01-25T16:17:40.491703Z",
     "iopub.status.busy": "2022-01-25T16:17:40.490444Z",
     "iopub.status.idle": "2022-01-25T16:17:43.453717Z",
     "shell.execute_reply": "2022-01-25T16:17:43.452985Z"
    },
    "papermill": {
     "duration": 2.98942,
     "end_time": "2022-01-25T16:17:43.453904",
     "exception": false,
     "start_time": "2022-01-25T16:17:40.464484",
     "status": "completed"
    },
    "tags": []
   },
   "outputs": [],
   "source": [
    "import numpy as np\n",
    "import pandas as pd\n",
    "import matplotlib.pyplot as plt\n",
    "import seaborn as sns\n",
    "import plotly.express as px\n",
    "import matplotlib.cm as cm\n",
    "import matplotlib.colors as colors\n",
    "%matplotlib inline\n",
    "\n",
    "\n",
    "from sklearn.compose import ColumnTransformer\n",
    "from sklearn.pipeline import Pipeline\n",
    "from sklearn.impute import SimpleImputer\n",
    "from sklearn.preprocessing import StandardScaler, OneHotEncoder\n",
    "from sklearn.ensemble import RandomForestClassifier,AdaBoostClassifier\n",
    "from sklearn.tree import DecisionTreeClassifier\n",
    "from sklearn.model_selection import train_test_split,cross_val_score"
   ]
  },
  {
   "cell_type": "code",
   "execution_count": 2,
   "id": "a3c1eebf",
   "metadata": {
    "execution": {
     "iopub.execute_input": "2022-01-25T16:17:43.504195Z",
     "iopub.status.busy": "2022-01-25T16:17:43.503511Z",
     "iopub.status.idle": "2022-01-25T16:17:43.507188Z",
     "shell.execute_reply": "2022-01-25T16:17:43.507771Z"
    },
    "papermill": {
     "duration": 0.031157,
     "end_time": "2022-01-25T16:17:43.507938",
     "exception": false,
     "start_time": "2022-01-25T16:17:43.476781",
     "status": "completed"
    },
    "tags": []
   },
   "outputs": [],
   "source": [
    "pd.set_option(\"display.max_columns\", None)"
   ]
  },
  {
   "cell_type": "code",
   "execution_count": 3,
   "id": "d56df0ef",
   "metadata": {
    "execution": {
     "iopub.execute_input": "2022-01-25T16:17:43.558380Z",
     "iopub.status.busy": "2022-01-25T16:17:43.556833Z",
     "iopub.status.idle": "2022-01-25T16:17:43.732266Z",
     "shell.execute_reply": "2022-01-25T16:17:43.731573Z"
    },
    "papermill": {
     "duration": 0.201929,
     "end_time": "2022-01-25T16:17:43.732560",
     "exception": true,
     "start_time": "2022-01-25T16:17:43.530631",
     "status": "failed"
    },
    "tags": []
   },
   "outputs": [
    {
     "ename": "FileNotFoundError",
     "evalue": "[Errno 2] No such file or directory: '/Users/apple/Documents/Data science/ML project/data.csv'",
     "output_type": "error",
     "traceback": [
      "\u001b[0;31m---------------------------------------------------------------------------\u001b[0m",
      "\u001b[0;31mFileNotFoundError\u001b[0m                         Traceback (most recent call last)",
      "\u001b[0;32m/tmp/ipykernel_20/4136034163.py\u001b[0m in \u001b[0;36m<module>\u001b[0;34m\u001b[0m\n\u001b[0;32m----> 1\u001b[0;31m \u001b[0mdf\u001b[0m\u001b[0;34m=\u001b[0m\u001b[0mpd\u001b[0m\u001b[0;34m.\u001b[0m\u001b[0mread_csv\u001b[0m\u001b[0;34m(\u001b[0m\u001b[0;34m'/Users/apple/Documents/Data science/ML project/data.csv'\u001b[0m\u001b[0;34m)\u001b[0m\u001b[0;34m\u001b[0m\u001b[0;34m\u001b[0m\u001b[0m\n\u001b[0m\u001b[1;32m      2\u001b[0m \u001b[0mdf\u001b[0m\u001b[0;34m\u001b[0m\u001b[0;34m\u001b[0m\u001b[0m\n",
      "\u001b[0;32m/opt/conda/lib/python3.7/site-packages/pandas/util/_decorators.py\u001b[0m in \u001b[0;36mwrapper\u001b[0;34m(*args, **kwargs)\u001b[0m\n\u001b[1;32m    309\u001b[0m                     \u001b[0mstacklevel\u001b[0m\u001b[0;34m=\u001b[0m\u001b[0mstacklevel\u001b[0m\u001b[0;34m,\u001b[0m\u001b[0;34m\u001b[0m\u001b[0;34m\u001b[0m\u001b[0m\n\u001b[1;32m    310\u001b[0m                 )\n\u001b[0;32m--> 311\u001b[0;31m             \u001b[0;32mreturn\u001b[0m \u001b[0mfunc\u001b[0m\u001b[0;34m(\u001b[0m\u001b[0;34m*\u001b[0m\u001b[0margs\u001b[0m\u001b[0;34m,\u001b[0m \u001b[0;34m**\u001b[0m\u001b[0mkwargs\u001b[0m\u001b[0;34m)\u001b[0m\u001b[0;34m\u001b[0m\u001b[0;34m\u001b[0m\u001b[0m\n\u001b[0m\u001b[1;32m    312\u001b[0m \u001b[0;34m\u001b[0m\u001b[0m\n\u001b[1;32m    313\u001b[0m         \u001b[0;32mreturn\u001b[0m \u001b[0mwrapper\u001b[0m\u001b[0;34m\u001b[0m\u001b[0;34m\u001b[0m\u001b[0m\n",
      "\u001b[0;32m/opt/conda/lib/python3.7/site-packages/pandas/io/parsers/readers.py\u001b[0m in \u001b[0;36mread_csv\u001b[0;34m(filepath_or_buffer, sep, delimiter, header, names, index_col, usecols, squeeze, prefix, mangle_dupe_cols, dtype, engine, converters, true_values, false_values, skipinitialspace, skiprows, skipfooter, nrows, na_values, keep_default_na, na_filter, verbose, skip_blank_lines, parse_dates, infer_datetime_format, keep_date_col, date_parser, dayfirst, cache_dates, iterator, chunksize, compression, thousands, decimal, lineterminator, quotechar, quoting, doublequote, escapechar, comment, encoding, encoding_errors, dialect, error_bad_lines, warn_bad_lines, on_bad_lines, delim_whitespace, low_memory, memory_map, float_precision, storage_options)\u001b[0m\n\u001b[1;32m    584\u001b[0m     \u001b[0mkwds\u001b[0m\u001b[0;34m.\u001b[0m\u001b[0mupdate\u001b[0m\u001b[0;34m(\u001b[0m\u001b[0mkwds_defaults\u001b[0m\u001b[0;34m)\u001b[0m\u001b[0;34m\u001b[0m\u001b[0;34m\u001b[0m\u001b[0m\n\u001b[1;32m    585\u001b[0m \u001b[0;34m\u001b[0m\u001b[0m\n\u001b[0;32m--> 586\u001b[0;31m     \u001b[0;32mreturn\u001b[0m \u001b[0m_read\u001b[0m\u001b[0;34m(\u001b[0m\u001b[0mfilepath_or_buffer\u001b[0m\u001b[0;34m,\u001b[0m \u001b[0mkwds\u001b[0m\u001b[0;34m)\u001b[0m\u001b[0;34m\u001b[0m\u001b[0;34m\u001b[0m\u001b[0m\n\u001b[0m\u001b[1;32m    587\u001b[0m \u001b[0;34m\u001b[0m\u001b[0m\n\u001b[1;32m    588\u001b[0m \u001b[0;34m\u001b[0m\u001b[0m\n",
      "\u001b[0;32m/opt/conda/lib/python3.7/site-packages/pandas/io/parsers/readers.py\u001b[0m in \u001b[0;36m_read\u001b[0;34m(filepath_or_buffer, kwds)\u001b[0m\n\u001b[1;32m    480\u001b[0m \u001b[0;34m\u001b[0m\u001b[0m\n\u001b[1;32m    481\u001b[0m     \u001b[0;31m# Create the parser.\u001b[0m\u001b[0;34m\u001b[0m\u001b[0;34m\u001b[0m\u001b[0;34m\u001b[0m\u001b[0m\n\u001b[0;32m--> 482\u001b[0;31m     \u001b[0mparser\u001b[0m \u001b[0;34m=\u001b[0m \u001b[0mTextFileReader\u001b[0m\u001b[0;34m(\u001b[0m\u001b[0mfilepath_or_buffer\u001b[0m\u001b[0;34m,\u001b[0m \u001b[0;34m**\u001b[0m\u001b[0mkwds\u001b[0m\u001b[0;34m)\u001b[0m\u001b[0;34m\u001b[0m\u001b[0;34m\u001b[0m\u001b[0m\n\u001b[0m\u001b[1;32m    483\u001b[0m \u001b[0;34m\u001b[0m\u001b[0m\n\u001b[1;32m    484\u001b[0m     \u001b[0;32mif\u001b[0m \u001b[0mchunksize\u001b[0m \u001b[0;32mor\u001b[0m \u001b[0miterator\u001b[0m\u001b[0;34m:\u001b[0m\u001b[0;34m\u001b[0m\u001b[0;34m\u001b[0m\u001b[0m\n",
      "\u001b[0;32m/opt/conda/lib/python3.7/site-packages/pandas/io/parsers/readers.py\u001b[0m in \u001b[0;36m__init__\u001b[0;34m(self, f, engine, **kwds)\u001b[0m\n\u001b[1;32m    809\u001b[0m             \u001b[0mself\u001b[0m\u001b[0;34m.\u001b[0m\u001b[0moptions\u001b[0m\u001b[0;34m[\u001b[0m\u001b[0;34m\"has_index_names\"\u001b[0m\u001b[0;34m]\u001b[0m \u001b[0;34m=\u001b[0m \u001b[0mkwds\u001b[0m\u001b[0;34m[\u001b[0m\u001b[0;34m\"has_index_names\"\u001b[0m\u001b[0;34m]\u001b[0m\u001b[0;34m\u001b[0m\u001b[0;34m\u001b[0m\u001b[0m\n\u001b[1;32m    810\u001b[0m \u001b[0;34m\u001b[0m\u001b[0m\n\u001b[0;32m--> 811\u001b[0;31m         \u001b[0mself\u001b[0m\u001b[0;34m.\u001b[0m\u001b[0m_engine\u001b[0m \u001b[0;34m=\u001b[0m \u001b[0mself\u001b[0m\u001b[0;34m.\u001b[0m\u001b[0m_make_engine\u001b[0m\u001b[0;34m(\u001b[0m\u001b[0mself\u001b[0m\u001b[0;34m.\u001b[0m\u001b[0mengine\u001b[0m\u001b[0;34m)\u001b[0m\u001b[0;34m\u001b[0m\u001b[0;34m\u001b[0m\u001b[0m\n\u001b[0m\u001b[1;32m    812\u001b[0m \u001b[0;34m\u001b[0m\u001b[0m\n\u001b[1;32m    813\u001b[0m     \u001b[0;32mdef\u001b[0m \u001b[0mclose\u001b[0m\u001b[0;34m(\u001b[0m\u001b[0mself\u001b[0m\u001b[0;34m)\u001b[0m\u001b[0;34m:\u001b[0m\u001b[0;34m\u001b[0m\u001b[0;34m\u001b[0m\u001b[0m\n",
      "\u001b[0;32m/opt/conda/lib/python3.7/site-packages/pandas/io/parsers/readers.py\u001b[0m in \u001b[0;36m_make_engine\u001b[0;34m(self, engine)\u001b[0m\n\u001b[1;32m   1038\u001b[0m             )\n\u001b[1;32m   1039\u001b[0m         \u001b[0;31m# error: Too many arguments for \"ParserBase\"\u001b[0m\u001b[0;34m\u001b[0m\u001b[0;34m\u001b[0m\u001b[0;34m\u001b[0m\u001b[0m\n\u001b[0;32m-> 1040\u001b[0;31m         \u001b[0;32mreturn\u001b[0m \u001b[0mmapping\u001b[0m\u001b[0;34m[\u001b[0m\u001b[0mengine\u001b[0m\u001b[0;34m]\u001b[0m\u001b[0;34m(\u001b[0m\u001b[0mself\u001b[0m\u001b[0;34m.\u001b[0m\u001b[0mf\u001b[0m\u001b[0;34m,\u001b[0m \u001b[0;34m**\u001b[0m\u001b[0mself\u001b[0m\u001b[0;34m.\u001b[0m\u001b[0moptions\u001b[0m\u001b[0;34m)\u001b[0m  \u001b[0;31m# type: ignore[call-arg]\u001b[0m\u001b[0;34m\u001b[0m\u001b[0;34m\u001b[0m\u001b[0m\n\u001b[0m\u001b[1;32m   1041\u001b[0m \u001b[0;34m\u001b[0m\u001b[0m\n\u001b[1;32m   1042\u001b[0m     \u001b[0;32mdef\u001b[0m \u001b[0m_failover_to_python\u001b[0m\u001b[0;34m(\u001b[0m\u001b[0mself\u001b[0m\u001b[0;34m)\u001b[0m\u001b[0;34m:\u001b[0m\u001b[0;34m\u001b[0m\u001b[0;34m\u001b[0m\u001b[0m\n",
      "\u001b[0;32m/opt/conda/lib/python3.7/site-packages/pandas/io/parsers/c_parser_wrapper.py\u001b[0m in \u001b[0;36m__init__\u001b[0;34m(self, src, **kwds)\u001b[0m\n\u001b[1;32m     49\u001b[0m \u001b[0;34m\u001b[0m\u001b[0m\n\u001b[1;32m     50\u001b[0m         \u001b[0;31m# open handles\u001b[0m\u001b[0;34m\u001b[0m\u001b[0;34m\u001b[0m\u001b[0;34m\u001b[0m\u001b[0m\n\u001b[0;32m---> 51\u001b[0;31m         \u001b[0mself\u001b[0m\u001b[0;34m.\u001b[0m\u001b[0m_open_handles\u001b[0m\u001b[0;34m(\u001b[0m\u001b[0msrc\u001b[0m\u001b[0;34m,\u001b[0m \u001b[0mkwds\u001b[0m\u001b[0;34m)\u001b[0m\u001b[0;34m\u001b[0m\u001b[0;34m\u001b[0m\u001b[0m\n\u001b[0m\u001b[1;32m     52\u001b[0m         \u001b[0;32massert\u001b[0m \u001b[0mself\u001b[0m\u001b[0;34m.\u001b[0m\u001b[0mhandles\u001b[0m \u001b[0;32mis\u001b[0m \u001b[0;32mnot\u001b[0m \u001b[0;32mNone\u001b[0m\u001b[0;34m\u001b[0m\u001b[0;34m\u001b[0m\u001b[0m\n\u001b[1;32m     53\u001b[0m \u001b[0;34m\u001b[0m\u001b[0m\n",
      "\u001b[0;32m/opt/conda/lib/python3.7/site-packages/pandas/io/parsers/base_parser.py\u001b[0m in \u001b[0;36m_open_handles\u001b[0;34m(self, src, kwds)\u001b[0m\n\u001b[1;32m    227\u001b[0m             \u001b[0mmemory_map\u001b[0m\u001b[0;34m=\u001b[0m\u001b[0mkwds\u001b[0m\u001b[0;34m.\u001b[0m\u001b[0mget\u001b[0m\u001b[0;34m(\u001b[0m\u001b[0;34m\"memory_map\"\u001b[0m\u001b[0;34m,\u001b[0m \u001b[0;32mFalse\u001b[0m\u001b[0;34m)\u001b[0m\u001b[0;34m,\u001b[0m\u001b[0;34m\u001b[0m\u001b[0;34m\u001b[0m\u001b[0m\n\u001b[1;32m    228\u001b[0m             \u001b[0mstorage_options\u001b[0m\u001b[0;34m=\u001b[0m\u001b[0mkwds\u001b[0m\u001b[0;34m.\u001b[0m\u001b[0mget\u001b[0m\u001b[0;34m(\u001b[0m\u001b[0;34m\"storage_options\"\u001b[0m\u001b[0;34m,\u001b[0m \u001b[0;32mNone\u001b[0m\u001b[0;34m)\u001b[0m\u001b[0;34m,\u001b[0m\u001b[0;34m\u001b[0m\u001b[0;34m\u001b[0m\u001b[0m\n\u001b[0;32m--> 229\u001b[0;31m             \u001b[0merrors\u001b[0m\u001b[0;34m=\u001b[0m\u001b[0mkwds\u001b[0m\u001b[0;34m.\u001b[0m\u001b[0mget\u001b[0m\u001b[0;34m(\u001b[0m\u001b[0;34m\"encoding_errors\"\u001b[0m\u001b[0;34m,\u001b[0m \u001b[0;34m\"strict\"\u001b[0m\u001b[0;34m)\u001b[0m\u001b[0;34m,\u001b[0m\u001b[0;34m\u001b[0m\u001b[0;34m\u001b[0m\u001b[0m\n\u001b[0m\u001b[1;32m    230\u001b[0m         )\n\u001b[1;32m    231\u001b[0m \u001b[0;34m\u001b[0m\u001b[0m\n",
      "\u001b[0;32m/opt/conda/lib/python3.7/site-packages/pandas/io/common.py\u001b[0m in \u001b[0;36mget_handle\u001b[0;34m(path_or_buf, mode, encoding, compression, memory_map, is_text, errors, storage_options)\u001b[0m\n\u001b[1;32m    705\u001b[0m                 \u001b[0mencoding\u001b[0m\u001b[0;34m=\u001b[0m\u001b[0mioargs\u001b[0m\u001b[0;34m.\u001b[0m\u001b[0mencoding\u001b[0m\u001b[0;34m,\u001b[0m\u001b[0;34m\u001b[0m\u001b[0;34m\u001b[0m\u001b[0m\n\u001b[1;32m    706\u001b[0m                 \u001b[0merrors\u001b[0m\u001b[0;34m=\u001b[0m\u001b[0merrors\u001b[0m\u001b[0;34m,\u001b[0m\u001b[0;34m\u001b[0m\u001b[0;34m\u001b[0m\u001b[0m\n\u001b[0;32m--> 707\u001b[0;31m                 \u001b[0mnewline\u001b[0m\u001b[0;34m=\u001b[0m\u001b[0;34m\"\"\u001b[0m\u001b[0;34m,\u001b[0m\u001b[0;34m\u001b[0m\u001b[0;34m\u001b[0m\u001b[0m\n\u001b[0m\u001b[1;32m    708\u001b[0m             )\n\u001b[1;32m    709\u001b[0m         \u001b[0;32melse\u001b[0m\u001b[0;34m:\u001b[0m\u001b[0;34m\u001b[0m\u001b[0;34m\u001b[0m\u001b[0m\n",
      "\u001b[0;31mFileNotFoundError\u001b[0m: [Errno 2] No such file or directory: '/Users/apple/Documents/Data science/ML project/data.csv'"
     ]
    }
   ],
   "source": [
    "df=pd.read_csv('/Users/apple/Documents/Data science/ML project/data.csv')\n",
    "df"
   ]
  },
  {
   "cell_type": "code",
   "execution_count": null,
   "id": "9c16b29b",
   "metadata": {
    "papermill": {
     "duration": null,
     "end_time": null,
     "exception": null,
     "start_time": null,
     "status": "pending"
    },
    "tags": []
   },
   "outputs": [],
   "source": [
    "df.shape"
   ]
  },
  {
   "cell_type": "code",
   "execution_count": null,
   "id": "74c7fd7a",
   "metadata": {
    "papermill": {
     "duration": null,
     "end_time": null,
     "exception": null,
     "start_time": null,
     "status": "pending"
    },
    "tags": []
   },
   "outputs": [],
   "source": [
    "df.describe()"
   ]
  },
  {
   "cell_type": "code",
   "execution_count": null,
   "id": "4681d1af",
   "metadata": {
    "papermill": {
     "duration": null,
     "end_time": null,
     "exception": null,
     "start_time": null,
     "status": "pending"
    },
    "tags": []
   },
   "outputs": [],
   "source": [
    "df.columns"
   ]
  },
  {
   "cell_type": "code",
   "execution_count": null,
   "id": "5b51d71b",
   "metadata": {
    "papermill": {
     "duration": null,
     "end_time": null,
     "exception": null,
     "start_time": null,
     "status": "pending"
    },
    "tags": []
   },
   "outputs": [],
   "source": [
    "df['Bankrupt?'].value_counts()"
   ]
  },
  {
   "cell_type": "code",
   "execution_count": null,
   "id": "1285a138",
   "metadata": {
    "papermill": {
     "duration": null,
     "end_time": null,
     "exception": null,
     "start_time": null,
     "status": "pending"
    },
    "tags": []
   },
   "outputs": [],
   "source": [
    "df.isnull().sum()"
   ]
  },
  {
   "cell_type": "code",
   "execution_count": null,
   "id": "9c40b787",
   "metadata": {
    "papermill": {
     "duration": null,
     "end_time": null,
     "exception": null,
     "start_time": null,
     "status": "pending"
    },
    "tags": []
   },
   "outputs": [],
   "source": [
    "sns.countplot('Bankrupt?',data=df)"
   ]
  },
  {
   "cell_type": "markdown",
   "id": "9756527d",
   "metadata": {
    "papermill": {
     "duration": null,
     "end_time": null,
     "exception": null,
     "start_time": null,
     "status": "pending"
    },
    "tags": []
   },
   "source": [
    "NOTE: The dataset is highly unbalanced,This can be fixed with adjustment but I'm taking the Dataset as it is. As the main goal of the ML project is to practice ML algorithms."
   ]
  },
  {
   "cell_type": "markdown",
   "id": "a7fd565c",
   "metadata": {
    "papermill": {
     "duration": null,
     "end_time": null,
     "exception": null,
     "start_time": null,
     "status": "pending"
    },
    "tags": []
   },
   "source": [
    "# Pipelines"
   ]
  },
  {
   "cell_type": "code",
   "execution_count": null,
   "id": "77182afe",
   "metadata": {
    "papermill": {
     "duration": null,
     "end_time": null,
     "exception": null,
     "start_time": null,
     "status": "pending"
    },
    "tags": []
   },
   "outputs": [],
   "source": [
    "# We create the preprocessing pipelines for both numeric and categorical data.\n",
    "numeric_features = [ ' ROA(C) before interest and depreciation before interest',\n",
    "       ' ROA(A) before interest and % after tax',\n",
    "       ' ROA(B) before interest and depreciation after tax',\n",
    "       ' Operating Gross Margin', ' Realized Sales Gross Margin',\n",
    "       ' Operating Profit Rate', ' Pre-tax net Interest Rate',\n",
    "       ' After-tax net Interest Rate',\n",
    "       ' Non-industry income and expenditure/revenue',\n",
    "       ' Continuous interest rate (after tax)', ' Operating Expense Rate',\n",
    "       ' Research and development expense rate', ' Cash flow rate',\n",
    "       ' Interest-bearing debt interest rate', ' Tax rate (A)',\n",
    "       ' Net Value Per Share (B)', ' Net Value Per Share (A)',\n",
    "       ' Net Value Per Share (C)', ' Persistent EPS in the Last Four Seasons',\n",
    "       ' Cash Flow Per Share', ' Revenue Per Share (Yuan ¥)',\n",
    "       ' Operating Profit Per Share (Yuan ¥)',\n",
    "       ' Per Share Net profit before tax (Yuan ¥)',\n",
    "       ' Realized Sales Gross Profit Growth Rate',\n",
    "       ' Operating Profit Growth Rate', ' After-tax Net Profit Growth Rate',\n",
    "       ' Regular Net Profit Growth Rate', ' Continuous Net Profit Growth Rate',\n",
    "       ' Total Asset Growth Rate', ' Net Value Growth Rate',\n",
    "       ' Total Asset Return Growth Rate Ratio', ' Cash Reinvestment %',\n",
    "       ' Current Ratio', ' Quick Ratio', ' Interest Expense Ratio',\n",
    "       ' Total debt/Total net worth', ' Debt ratio %', ' Net worth/Assets',\n",
    "       ' Long-term fund suitability ratio (A)', ' Borrowing dependency',\n",
    "       ' Contingent liabilities/Net worth',\n",
    "       ' Operating profit/Paid-in capital',\n",
    "       ' Net profit before tax/Paid-in capital',\n",
    "       ' Inventory and accounts receivable/Net value', ' Total Asset Turnover',\n",
    "       ' Accounts Receivable Turnover', ' Average Collection Days',\n",
    "       ' Inventory Turnover Rate (times)', ' Fixed Assets Turnover Frequency',\n",
    "       ' Net Worth Turnover Rate (times)', ' Revenue per person',\n",
    "       ' Operating profit per person', ' Allocation rate per person',\n",
    "       ' Working Capital to Total Assets', ' Quick Assets/Total Assets',\n",
    "       ' Current Assets/Total Assets', ' Cash/Total Assets',\n",
    "       ' Quick Assets/Current Liability', ' Cash/Current Liability',\n",
    "       ' Current Liability to Assets', ' Operating Funds to Liability',\n",
    "       ' Inventory/Working Capital', ' Inventory/Current Liability',\n",
    "       ' Current Liabilities/Liability', ' Working Capital/Equity',\n",
    "       ' Current Liabilities/Equity', ' Long-term Liability to Current Assets',\n",
    "       ' Retained Earnings to Total Assets', ' Total income/Total expense',\n",
    "       ' Total expense/Assets', ' Current Asset Turnover Rate',\n",
    "       ' Quick Asset Turnover Rate', ' Working capitcal Turnover Rate',\n",
    "       ' Cash Turnover Rate', ' Cash Flow to Sales', ' Fixed Assets to Assets',\n",
    "       ' Current Liability to Liability', ' Current Liability to Equity',\n",
    "       ' Equity to Long-term Liability', ' Cash Flow to Total Assets',\n",
    "       ' Cash Flow to Liability', ' CFO to Assets', ' Cash Flow to Equity',\n",
    "       ' Current Liability to Current Assets', ' Liability-Assets Flag',\n",
    "       ' Net Income to Total Assets', ' Total assets to GNP price',\n",
    "       ' No-credit Interval', ' Gross Profit to Sales',\n",
    "       \" Net Income to Stockholder's Equity\", ' Liability to Equity',\n",
    "       ' Degree of Financial Leverage (DFL)',\n",
    "       ' Interest Coverage Ratio (Interest expense to EBIT)',\n",
    "        ' Equity to Liability']\n",
    "numeric_transformer = Pipeline(steps=[\n",
    "    ('scaler', StandardScaler())])\n",
    "\n",
    "preprocessor = ColumnTransformer(\n",
    "    transformers=[\n",
    "        ('num', numeric_transformer, numeric_features)])"
   ]
  },
  {
   "cell_type": "markdown",
   "id": "9102c61d",
   "metadata": {
    "papermill": {
     "duration": null,
     "end_time": null,
     "exception": null,
     "start_time": null,
     "status": "pending"
    },
    "tags": []
   },
   "source": [
    "# 1. ML- Logistic regression"
   ]
  },
  {
   "cell_type": "code",
   "execution_count": null,
   "id": "4c05735e",
   "metadata": {
    "papermill": {
     "duration": null,
     "end_time": null,
     "exception": null,
     "start_time": null,
     "status": "pending"
    },
    "tags": []
   },
   "outputs": [],
   "source": [
    "#import models\n",
    "from sklearn.metrics import confusion_matrix\n",
    "from sklearn.metrics import accuracy_score\n",
    "import time "
   ]
  },
  {
   "cell_type": "code",
   "execution_count": null,
   "id": "47581479",
   "metadata": {
    "papermill": {
     "duration": null,
     "end_time": null,
     "exception": null,
     "start_time": null,
     "status": "pending"
    },
    "tags": []
   },
   "outputs": [],
   "source": [
    "#defining dependent and independent variables\n",
    "x = df.drop('Bankrupt?', axis=1)\n",
    "y = df['Bankrupt?']"
   ]
  },
  {
   "cell_type": "code",
   "execution_count": null,
   "id": "0cc0943e",
   "metadata": {
    "papermill": {
     "duration": null,
     "end_time": null,
     "exception": null,
     "start_time": null,
     "status": "pending"
    },
    "tags": []
   },
   "outputs": [],
   "source": [
    "#splitting data into training and testing set\n",
    "from sklearn.model_selection import train_test_split\n",
    "x_train, x_test, y_train, y_test = train_test_split(x, y, test_size = 0.2, random_state = 0)"
   ]
  },
  {
   "cell_type": "code",
   "execution_count": null,
   "id": "41d89361",
   "metadata": {
    "papermill": {
     "duration": null,
     "end_time": null,
     "exception": null,
     "start_time": null,
     "status": "pending"
    },
    "tags": []
   },
   "outputs": [],
   "source": [
    "#splitting data into training and testing set\n",
    "lr = Pipeline(steps=[('preprocessor', preprocessor),\n",
    "                      ('classifier', LogisticRegression(max_iter = 10000))])\n",
    "lr.fit(x_train, y_train)\n",
    "\n",
    "\n",
    "#getting confusion matrix\n",
    "y_pred = lr.predict(x_test)\n",
    "cm = confusion_matrix(y_test,y_pred)\n",
    "print('confusion matrix:\\n',cm)\n",
    "\n",
    "#checking accuracy\n",
    "lra = accuracy_score(y_test,y_pred)\n",
    "print('accuracy score = ',lra)\n",
    "\n",
    "#check for time use\n",
    "start=time.time()\n",
    "lr = LogisticRegression(max_iter = 10000)\n",
    "lr.fit(x_train,y_train)\n",
    "end=time.time()\n",
    "lrt=end-start\n",
    "print ('The time (seconds) of execution of logistic regression is: ', lrt)"
   ]
  },
  {
   "cell_type": "markdown",
   "id": "15c05212",
   "metadata": {
    "papermill": {
     "duration": null,
     "end_time": null,
     "exception": null,
     "start_time": null,
     "status": "pending"
    },
    "tags": []
   },
   "source": [
    "# 2. ML- KNN"
   ]
  },
  {
   "cell_type": "code",
   "execution_count": null,
   "id": "0af8ecfc",
   "metadata": {
    "papermill": {
     "duration": null,
     "end_time": null,
     "exception": null,
     "start_time": null,
     "status": "pending"
    },
    "tags": []
   },
   "outputs": [],
   "source": [
    "from sklearn.neighbors import KNeighborsClassifier"
   ]
  },
  {
   "cell_type": "code",
   "execution_count": null,
   "id": "55dcf8cb",
   "metadata": {
    "papermill": {
     "duration": null,
     "end_time": null,
     "exception": null,
     "start_time": null,
     "status": "pending"
    },
    "tags": []
   },
   "outputs": [],
   "source": [
    "#check for optimal k neighbor\n",
    "for i in range (1,10): \n",
    "    knnmodel= KNeighborsClassifier(n_neighbors=i)\n",
    "    knnmodel.fit(x_train,y_train)\n",
    "    predictions=knnmodel.predict(x_test)\n",
    "    acc_score=accuracy_score(y_test,predictions)\n",
    "    print (i,acc_score)"
   ]
  },
  {
   "cell_type": "markdown",
   "id": "c3b2b667",
   "metadata": {
    "papermill": {
     "duration": null,
     "end_time": null,
     "exception": null,
     "start_time": null,
     "status": "pending"
    },
    "tags": []
   },
   "source": [
    "NN 2 has great enough accuracy. "
   ]
  },
  {
   "cell_type": "code",
   "execution_count": null,
   "id": "148db19c",
   "metadata": {
    "papermill": {
     "duration": null,
     "end_time": null,
     "exception": null,
     "start_time": null,
     "status": "pending"
    },
    "tags": []
   },
   "outputs": [],
   "source": [
    "knn = Pipeline(steps=[('preprocessor', preprocessor),\n",
    "                      ('classifier', KNeighborsClassifier(n_neighbors = 2, metric = 'minkowski',p = 2))])\n",
    "knn.fit(x_train,y_train)\n",
    "\n",
    "#confusion matrix\n",
    "y_pred=knn.predict(x_test)\n",
    "cm=confusion_matrix(y_test,y_pred)\n",
    "print('confusion matrix:\\n',cm)\n",
    "\n",
    "#checking accuracy\n",
    "knna = accuracy_score(y_test,y_pred)\n",
    "print('accuracy score = ',knna)\n",
    "\n",
    "#check for time use\n",
    "start=time.time()\n",
    "knn= KNeighborsClassifier(n_neighbors = 2, metric = 'minkowski',p = 2)\n",
    "knn.fit(x_train,y_train)\n",
    "end=time.time()\n",
    "knnt=end-start\n",
    "print ('The time (seconds) of execution of KNN is: ', knnt)"
   ]
  },
  {
   "cell_type": "markdown",
   "id": "414a4d89",
   "metadata": {
    "papermill": {
     "duration": null,
     "end_time": null,
     "exception": null,
     "start_time": null,
     "status": "pending"
    },
    "tags": []
   },
   "source": [
    "#  3. ML- Decision Tree"
   ]
  },
  {
   "cell_type": "code",
   "execution_count": null,
   "id": "f2b24f34",
   "metadata": {
    "papermill": {
     "duration": null,
     "end_time": null,
     "exception": null,
     "start_time": null,
     "status": "pending"
    },
    "tags": []
   },
   "outputs": [],
   "source": [
    "#training model\n",
    "from sklearn.tree import DecisionTreeClassifier\n",
    "dt = Pipeline(steps=[('preprocessor', preprocessor),\n",
    "                      ('classifier', DecisionTreeClassifier())])\n",
    "dt.fit(x_train,y_train)\n",
    "\n",
    "#getting confusion matrix\n",
    "y_pred = dt.predict(x_test)\n",
    "cm = confusion_matrix(y_test,y_pred)\n",
    "print('confusion matrix:\\n',cm)\n",
    "\n",
    "#checking accuracy\n",
    "dta = accuracy_score(y_test,y_pred)\n",
    "print('accuracy score = ',dta)\n",
    "\n",
    "#check for time use\n",
    "start=time.time()\n",
    "dt = DecisionTreeClassifier()\n",
    "dt.fit(x_train,y_train)\n",
    "end=time.time()\n",
    "dtt=end-start\n",
    "print ('The time (seconds) of execution of decision tree is: ', dtt)\n"
   ]
  },
  {
   "cell_type": "markdown",
   "id": "0179e69c",
   "metadata": {
    "papermill": {
     "duration": null,
     "end_time": null,
     "exception": null,
     "start_time": null,
     "status": "pending"
    },
    "tags": []
   },
   "source": [
    "#  4. ML- Random Forrest"
   ]
  },
  {
   "cell_type": "code",
   "execution_count": null,
   "id": "9dee4b55",
   "metadata": {
    "papermill": {
     "duration": null,
     "end_time": null,
     "exception": null,
     "start_time": null,
     "status": "pending"
    },
    "tags": []
   },
   "outputs": [],
   "source": [
    "from sklearn.ensemble import RandomForestClassifier\n",
    "\n",
    "#n_estimators: no. of decision trees; 100 by default\n",
    "#n_jobs: The number of jobs to run in parallel. None means 1 , -1 means using all processors\n",
    "\n",
    "rf = Pipeline(steps=[('preprocessor', preprocessor),\n",
    "                      ('classifier', RandomForestClassifier(n_estimators = 100, random_state = 0))])\n",
    "rf.fit(x_train,y_train)\n",
    "\n",
    "#getting confusion matrix\n",
    "y_pred = rf.predict(x_test)\n",
    "cm = confusion_matrix(y_test,y_pred)\n",
    "print('confusion matrix:\\n',cm)\n",
    "\n",
    "#checking accuracy\n",
    "rfa = accuracy_score(y_test,y_pred)\n",
    "print('accuracy score = ',rfa)\n",
    "\n",
    "#check for time use\n",
    "start=time.time()\n",
    "rf = RandomForestClassifier(n_estimators = 100, random_state = 0)\n",
    "rf.fit(x_train,y_train)\n",
    "end=time.time()\n",
    "rft=end-start\n",
    "print ('The time (seconds) of execution of Random Forrest is: ', rft)"
   ]
  },
  {
   "cell_type": "markdown",
   "id": "292ffc33",
   "metadata": {
    "papermill": {
     "duration": null,
     "end_time": null,
     "exception": null,
     "start_time": null,
     "status": "pending"
    },
    "tags": []
   },
   "source": [
    "# 5. ML- AdaBoost"
   ]
  },
  {
   "cell_type": "code",
   "execution_count": null,
   "id": "14bda4e0",
   "metadata": {
    "papermill": {
     "duration": null,
     "end_time": null,
     "exception": null,
     "start_time": null,
     "status": "pending"
    },
    "tags": []
   },
   "outputs": [],
   "source": [
    "from sklearn.ensemble import AdaBoostClassifier\n",
    "from sklearn.tree import DecisionTreeClassifier\n",
    "\n",
    "#n_estimators: The maximum number of estimators at which boosting is terminated. \n",
    "ada = Pipeline(steps=[('preprocessor', preprocessor),\n",
    "                      ('classifier', AdaBoostClassifier(DecisionTreeClassifier(max_depth=3), n_estimators=100,random_state=10))])\n",
    "ada.fit(x_train, y_train)\n",
    "\n",
    "#getting confusion matrix\n",
    "y_pred = ada.predict(x_test)\n",
    "cm = confusion_matrix(y_test,y_pred)\n",
    "print('confusion matrix:\\n',cm)\n",
    "\n",
    "#checking accuracy\n",
    "adaa = accuracy_score(y_test,y_pred)\n",
    "print('accuracy score = ',adaa)\n",
    "\n",
    "\n",
    "#check for time use\n",
    "start=time.time()\n",
    "ada = AdaBoostClassifier(DecisionTreeClassifier(max_depth=3), n_estimators=100,random_state=10)\n",
    "ada.fit(x_train, y_train)\n",
    "end=time.time()\n",
    "adat=end-start\n",
    "print ('The time (seconds) of execution of Adaboost is: ', adat)"
   ]
  },
  {
   "cell_type": "markdown",
   "id": "cdc69b3c",
   "metadata": {
    "papermill": {
     "duration": null,
     "end_time": null,
     "exception": null,
     "start_time": null,
     "status": "pending"
    },
    "tags": []
   },
   "source": [
    "# Conclusion"
   ]
  },
  {
   "cell_type": "code",
   "execution_count": null,
   "id": "8e0b2a58",
   "metadata": {
    "papermill": {
     "duration": null,
     "end_time": null,
     "exception": null,
     "start_time": null,
     "status": "pending"
    },
    "tags": []
   },
   "outputs": [],
   "source": [
    "plt.figure(figsize= (8,7))\n",
    "ac = [lra,knna,dta,rfa,adaa]\n",
    "name = ['Logistic Regression','knn','Decision Tree', 'Random Forest','AdaBoost']\n",
    "sns.barplot(x = ac,y = name,palette='pastel')\n",
    "plt.title(\"Plotting the Model Accuracies\", fontsize=16, fontweight=\"bold\")"
   ]
  },
  {
   "cell_type": "markdown",
   "id": "9b14c2e6",
   "metadata": {
    "papermill": {
     "duration": null,
     "end_time": null,
     "exception": null,
     "start_time": null,
     "status": "pending"
    },
    "tags": []
   },
   "source": [
    "Bar chart isn't a good graphical representation as the model accuracies are all quite similar so I decided to do a scatterplot. "
   ]
  },
  {
   "cell_type": "code",
   "execution_count": null,
   "id": "7e9fca6d",
   "metadata": {
    "papermill": {
     "duration": null,
     "end_time": null,
     "exception": null,
     "start_time": null,
     "status": "pending"
    },
    "tags": []
   },
   "outputs": [],
   "source": [
    "models= pd.DataFrame({\n",
    "    'Model': ['Logistic Regression', 'KNN Classifier', 'Decision Tree','Random Forrest','Ada Boost'],\n",
    "    'Score': [lra,knna,dta,rfa,adaa],\n",
    "    'Execution Time':[lrt,knnt,dtt,rft,adat]})\n",
    "models"
   ]
  },
  {
   "cell_type": "code",
   "execution_count": null,
   "id": "ed497a17",
   "metadata": {
    "papermill": {
     "duration": null,
     "end_time": null,
     "exception": null,
     "start_time": null,
     "status": "pending"
    },
    "tags": []
   },
   "outputs": [],
   "source": [
    "fig, ax = plt.subplots()\n",
    "\n",
    "colormap = cm.viridis\n",
    "colorlist = [colors.rgb2hex(colormap(i)) for i in np.linspace(0, 0.9, len(models['Model']))]\n",
    "\n",
    "for i,c in enumerate(colorlist):\n",
    "\n",
    "    x = models['Score'][i]\n",
    "    y = models['Execution Time'][i]\n",
    "    l = models['Model'][i]\n",
    "\n",
    "    ax.scatter(x, y, label=l, s=50, linewidth=0.1, c=c)\n",
    "\n",
    "ax.legend()\n",
    "\n",
    "plt.show()"
   ]
  },
  {
   "cell_type": "markdown",
   "id": "a7a3580f",
   "metadata": {
    "papermill": {
     "duration": null,
     "end_time": null,
     "exception": null,
     "start_time": null,
     "status": "pending"
    },
    "tags": []
   },
   "source": [
    "As the above table indicates, all models have a great accuracy score. KNN classifier takes the least amount of execution time. So if I have to choose a model for prediction of bankruptcy, I'll choose KNN Classifier. "
   ]
  }
 ],
 "metadata": {
  "kernelspec": {
   "display_name": "Python 3",
   "language": "python",
   "name": "python3"
  },
  "language_info": {
   "codemirror_mode": {
    "name": "ipython",
    "version": 3
   },
   "file_extension": ".py",
   "mimetype": "text/x-python",
   "name": "python",
   "nbconvert_exporter": "python",
   "pygments_lexer": "ipython3",
   "version": "3.7.12"
  },
  "papermill": {
   "default_parameters": {},
   "duration": 15.519517,
   "end_time": "2022-01-25T16:17:44.768834",
   "environment_variables": {},
   "exception": true,
   "input_path": "__notebook__.ipynb",
   "output_path": "__notebook__.ipynb",
   "parameters": {},
   "start_time": "2022-01-25T16:17:29.249317",
   "version": "2.3.3"
  }
 },
 "nbformat": 4,
 "nbformat_minor": 5
}
